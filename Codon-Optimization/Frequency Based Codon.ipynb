{
 "cells": [
  {
   "cell_type": "code",
   "execution_count": 10,
   "id": "3a7435a3-ac0a-459a-a8ce-f98cf5602444",
   "metadata": {},
   "outputs": [
    {
     "name": "stdout",
     "output_type": "stream",
     "text": [
      "Original Sequence:  CGTAGTTACCATGGAGCAGT\n",
      "Optimized Sequence:  CGTAGTTACCATGGAGCATTT\n"
     ]
    }
   ],
   "source": [
    "# Define the codon usage table for E. coli (actual data):\n",
    "codon_usage_ecoli = {\n",
    "    'TTT': 0.0124, 'TTC': 0.0222,  # Phenylalanine (Phe)\n",
    "    'TTA': 0.0041, 'TTG': 0.0031,  # Leucine (Leu)\n",
    "    'CTT': 0.0108, 'CTC': 0.0153, 'CTA': 0.0069, 'CTG': 0.0154,  # Leucine (Leu)\n",
    "    'ATT': 0.0244, 'ATC': 0.0296, 'ATA': 0.0056,  # Isoleucine (Ile)\n",
    "    'ATG': 0.0186,  # Methionine (Met)\n",
    "    'GTT': 0.0196, 'GTC': 0.0205, 'GTA': 0.0132, 'GTG': 0.0155,  # Valine (Val)\n",
    "    'TCT': 0.0197, 'TCC': 0.0182, 'TCA': 0.0244, 'TCG': 0.0109,  # Serine (Ser)\n",
    "    'CCT': 0.0142, 'CCC': 0.0152, 'CCA': 0.0146, 'CCG': 0.0134,  # Proline (Pro)\n",
    "    'ACT': 0.0167, 'ACC': 0.0176, 'ACA': 0.0213, 'ACG': 0.0124,  # Threonine (Thr)\n",
    "    'GCT': 0.0235, 'GCC': 0.0311, 'GCA': 0.0211, 'GCG': 0.0134,  # Alanine (Ala)\n",
    "    'TAT': 0.0111, 'TAC': 0.0127,  # Tyrosine (Tyr)\n",
    "    'TAA': 0.0004, 'TAG': 0.0004, 'TGA': 0.0007,  # Stop codons\n",
    "    'CAT': 0.0144, 'CAC': 0.0183,  # Histidine (His)\n",
    "    'CAA': 0.0196, 'CAG': 0.0197,  # Glutamine (Gln)\n",
    "    'AAT': 0.0160, 'AAC': 0.0299,  # Asparagine (Asn)\n",
    "    'AAA': 0.0177, 'AAG': 0.0203,  # Lysine (Lys)\n",
    "    'GAT': 0.0140, 'GAC': 0.0225,  # Aspartic Acid (Asp)\n",
    "    'GAA': 0.0217, 'GAG': 0.0299,  # Glutamic Acid (Glu)\n",
    "    'TGT': 0.0075, 'TGC': 0.0145,  # Cysteine (Cys)\n",
    "    'TGG': 0.0132,  # Tryptophan (Trp)\n",
    "    'CGT': 0.0036, 'CGC': 0.0046, 'CGA': 0.0053, 'CGG': 0.0090,  # Arginine (Arg)\n",
    "    'AGT': 0.0122, 'AGC': 0.0144,  # Serine (Ser)\n",
    "    'AGA': 0.0047, 'AGG': 0.0062,  # Arginine (Arg)\n",
    "    'GGT': 0.0127, 'GGC': 0.0221, 'GGA': 0.0150, 'GGG': 0.0074,  # Glycine (Gly)\n",
    "}\n",
    "\n",
    "# Define the input sequence to be optimized:\n",
    "input_sequence = \"CGTAGTTACCATGGAGCAGT\"\n",
    "\n",
    "# Function to perform frequency-based codon optimization:\n",
    "def optimize_codons(input_sequence, codon_usage):\n",
    "    optimized_sequence = \"\"\n",
    "\n",
    "    for i in range(0, len(input_sequence), 3):\n",
    "        codon = input_sequence[i:i+3]\n",
    "\n",
    "        # Check if the codon exists in the codon usage table\n",
    "        if codon in codon_usage:\n",
    "            optimized_sequence += codon\n",
    "        else:\n",
    "            # Find the most frequent codon for the amino acid\n",
    "            amino_acid = \"X\"  # Placeholder for unknown codons\n",
    "            if i < len(input_sequence) - 3:\n",
    "                next_amino_acid = input_sequence[i+3:i+3+3]\n",
    "                if next_amino_acid in codon_usage:\n",
    "                    amino_acid = next_amino_acid\n",
    "\n",
    "            # Find the most frequent codon for the amino acid\n",
    "            best_codon = max(codon_usage, key=lambda x: codon_usage[x] if x.endswith(amino_acid) else 0)\n",
    "            optimized_sequence += best_codon\n",
    "\n",
    "    return optimized_sequence\n",
    "\n",
    "# Perform codon optimization\n",
    "optimized_sequence = optimize_codons(input_sequence, codon_usage_ecoli)\n",
    "\n",
    "# Print the original and optimized sequences\n",
    "print(\"Original Sequence: \", input_sequence)\n",
    "print(\"Optimized Sequence: \", optimized_sequence)\n"
   ]
  }
 ],
 "metadata": {
  "kernelspec": {
   "display_name": "Python 3 (ipykernel)",
   "language": "python",
   "name": "python3"
  },
  "language_info": {
   "codemirror_mode": {
    "name": "ipython",
    "version": 3
   },
   "file_extension": ".py",
   "mimetype": "text/x-python",
   "name": "python",
   "nbconvert_exporter": "python",
   "pygments_lexer": "ipython3",
   "version": "3.11.4"
  }
 },
 "nbformat": 4,
 "nbformat_minor": 5
}
