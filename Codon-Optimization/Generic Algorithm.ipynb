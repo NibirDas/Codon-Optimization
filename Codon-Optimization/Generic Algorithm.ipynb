{
 "cells": [
  {
   "cell_type": "code",
   "execution_count": 4,
   "id": "b7433602-9c2f-427a-8380-ebc899a435f3",
   "metadata": {},
   "outputs": [
    {
     "name": "stdout",
     "output_type": "stream",
     "text": [
      "Best codon-optimized sequence: TGCGGGACTGCAGGGACTACCGCGTGTTGTGCTACGGGGGGTGCGGGTTGCGCAGGCACA\n"
     ]
    }
   ],
   "source": [
    "import random\n",
    "# Define the target protein sequence\n",
    "target_protein = \"CGTAGTTACCATGGAGCAGT\"  # Replace with your actual protein sequence\n",
    "\n",
    "# Define the codon usage table for the host organism (example)\n",
    "host_codon_table = {\n",
    "    \"M\": [\"ATG\"],\n",
    "    \"S\": [\"TCA\", \"TCT\", \"TCC\", \"TCG\", \"AGT\", \"AGC\"],\n",
    "    \"T\": [\"ACA\", \"ACT\", \"ACC\", \"ACG\"],\n",
    "    \"H\": [\"CAT\", \"CAC\"],\n",
    "    \"D\": [\"GAT\", \"GAC\"],\n",
    "    \"K\": [\"AAA\", \"AAG\"],\n",
    "    \"E\": [\"GAA\", \"GAG\"],\n",
    "    \"L\": [\"TTA\", \"TTG\", \"CTT\", \"CTC\", \"CTA\", \"CTG\"],\n",
    "    \"A\": [\"GCA\", \"GCC\", \"GCG\", \"GCT\"],\n",
    "    \"C\": [\"TGC\", \"TGT\"],\n",
    "    \"G\": [\"GGG\", \"GGC\", \"GGA\", \"GGT\"],\n",
    "}\n",
    "\n",
    "# Define the genetic algorithm parameters\n",
    "population_size = 50\n",
    "mutation_rate = 0.01\n",
    "generations = 100\n",
    "\n",
    "# Initialize the population with random codon sequences\n",
    "def generate_random_sequence(target_protein):\n",
    "    return [random.choice(host_codon_table[aa]) for aa in target_protein]\n",
    "\n",
    "population = [generate_random_sequence(target_protein) for _ in range(population_size)]\n",
    "\n",
    "# Define the fitness function\n",
    "def calculate_fitness(sequence, target_protein):\n",
    "    # Calculate a fitness score based on how well the sequence matches the target protein\n",
    "    return sum(codon == target_codon for codon, target_codon in zip(sequence, target_protein))\n",
    "\n",
    "# Genetic algorithm loop\n",
    "for generation in range(generations):\n",
    "    # Calculate fitness scores for the entire population\n",
    "    fitness_scores = [calculate_fitness(seq, target_protein) for seq in population]\n",
    "    \n",
    "    # Select the top-performing sequences to be parents\n",
    "    parents = [population[i] for i in sorted(range(len(fitness_scores)), key=lambda x: fitness_scores[x], reverse=True)[:10]]\n",
    "    \n",
    "    # Create the next generation\n",
    "    new_population = parents[:]\n",
    "    \n",
    "    while len(new_population) < population_size:\n",
    "        parent1 = random.choice(parents)\n",
    "        parent2 = random.choice(parents)\n",
    "        crossover_point = random.randint(1, len(target_protein) - 1)\n",
    "        child = parent1[:crossover_point] + parent2[crossover_point:]\n",
    "        \n",
    "        # Apply mutation\n",
    "        if random.random() < mutation_rate:\n",
    "            mutation_position = random.randint(0, len(target_protein) - 1)\n",
    "            new_codon = random.choice(host_codon_table[target_protein[mutation_position]])\n",
    "            child = child[:mutation_position] + [new_codon] + child[mutation_position+1:]\n",
    "        \n",
    "        new_population.append(child)\n",
    "    \n",
    "    population = new_population\n",
    "\n",
    "# Select the best sequence from the final generation\n",
    "best_sequence = max(population, key=lambda seq: calculate_fitness(seq, target_protein))\n",
    "optimized_sequence_str = \"\".join(best_sequence)\n",
    "\n",
    "print(\"Best codon-optimized sequence:\", optimized_sequence_str)\n"
   ]
  },
  {
   "cell_type": "code",
   "execution_count": null,
   "id": "f3ee799f-1e0b-444a-8031-24eb55274ec2",
   "metadata": {},
   "outputs": [],
   "source": []
  }
 ],
 "metadata": {
  "kernelspec": {
   "display_name": "Python 3 (ipykernel)",
   "language": "python",
   "name": "python3"
  },
  "language_info": {
   "codemirror_mode": {
    "name": "ipython",
    "version": 3
   },
   "file_extension": ".py",
   "mimetype": "text/x-python",
   "name": "python",
   "nbconvert_exporter": "python",
   "pygments_lexer": "ipython3",
   "version": "3.11.4"
  }
 },
 "nbformat": 4,
 "nbformat_minor": 5
}
