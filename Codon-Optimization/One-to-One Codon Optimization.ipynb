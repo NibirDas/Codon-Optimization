{
 "cells": [
  {
   "cell_type": "code",
   "execution_count": 12,
   "id": "595e84fc-67ce-4736-bd6a-eb18de893915",
   "metadata": {},
   "outputs": [
    {
     "name": "stdout",
     "output_type": "stream",
     "text": [
      "Codon-optimized sequence: ['ATG', 'TCT', 'ACT', 'CAT', 'GAT', 'ACT', 'TCT', 'TTA', 'AAA', 'ACT', 'ACT', 'GAA']\n"
     ]
    }
   ],
   "source": [
    "import collections\n",
    "\n",
    "# Define the target protein sequence\n",
    "target_protein = \"MSTHDTSLKTTE\"  # Replace with your actual protein sequence\n",
    "# Define the codon usage table for the host organism (example)\n",
    "host_codon_table = {\n",
    "    \"A\": [\"GCT\", \"GCC\", \"GCA\", \"GCG\"],\n",
    "    \"C\": [\"TGT\", \"TGC\"],\n",
    "    \"D\": [\"GAT\", \"GAC\"],\n",
    "    \"E\": [\"GAA\", \"GAG\"],\n",
    "    \"F\": [\"TTT\", \"TTC\"],\n",
    "    \"G\": [\"GGT\", \"GGC\", \"GGA\", \"GGG\"],\n",
    "    \"H\": [\"CAT\", \"CAC\"],\n",
    "    \"I\": [\"ATT\", \"ATC\", \"ATA\"],\n",
    "    \"K\": [\"AAA\", \"AAG\"],\n",
    "    \"L\": [\"TTA\", \"TTG\", \"CTT\", \"CTC\", \"CTA\", \"CTG\"],\n",
    "    \"M\": [\"ATG\"],\n",
    "    \"N\": [\"AAT\", \"AAC\"],\n",
    "    \"P\": [\"CCT\", \"CCC\", \"CCA\", \"CCG\"],\n",
    "    \"Q\": [\"CAA\", \"CAG\"],\n",
    "    \"R\": [\"CGT\", \"CGC\", \"CGA\", \"CGG\", \"AGA\", \"AGG\"],\n",
    "    \"S\": [\"TCT\", \"TCC\", \"TCA\", \"TCG\", \"AGT\", \"AGC\"],\n",
    "    \"T\": [\"ACT\", \"ACC\", \"ACA\", \"ACG\"],\n",
    "    \"V\": [\"GTT\", \"GTC\", \"GTA\", \"GTG\"],\n",
    "    \"W\": [\"TGG\"],\n",
    "    \"Y\": [\"TAT\", \"TAC\"],\n",
    "    \"*\": [\"TAA\", \"TAG\", \"TGA\"],  # Stop codons\n",
    "}\n",
    "\n",
    "\n",
    "# Function to perform one-to-one codon replacement\n",
    "def one_to_one_codon_optimization(target_protein, host_codon_table):\n",
    "    optimized_sequence = []\n",
    "    for aa in target_protein: \n",
    "        if aa in host_codon_table:\n",
    "            codon_choices = host_codon_table[aa] \n",
    "            # Calculate codon usage frequencies and select the most frequent codon\n",
    "            codon_frequencies = collections.Counter(codon_choices)\n",
    "            #print (codon_frequencies)\n",
    "            most_frequent_codon = max(codon_frequencies, key=codon_frequencies.get)\n",
    "            optimized_sequence.append(most_frequent_codon)\n",
    "    \n",
    "    return optimized_sequence\n",
    "\n",
    "# Perform one-to-one codon replacement\n",
    "optimized_sequence = one_to_one_codon_optimization(target_protein, host_codon_table)\n",
    "\n",
    "print(\"Codon-optimized sequence:\", optimized_sequence)\n"
   ]
  },
  {
   "cell_type": "code",
   "execution_count": null,
   "id": "a5e63306-7422-4e69-826c-a8b3ca1de5e2",
   "metadata": {},
   "outputs": [],
   "source": []
  }
 ],
 "metadata": {
  "kernelspec": {
   "display_name": "Python 3 (ipykernel)",
   "language": "python",
   "name": "python3"
  },
  "language_info": {
   "codemirror_mode": {
    "name": "ipython",
    "version": 3
   },
   "file_extension": ".py",
   "mimetype": "text/x-python",
   "name": "python",
   "nbconvert_exporter": "python",
   "pygments_lexer": "ipython3",
   "version": "3.11.4"
  }
 },
 "nbformat": 4,
 "nbformat_minor": 5
}
