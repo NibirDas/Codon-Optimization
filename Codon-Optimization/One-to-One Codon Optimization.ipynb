{
 "cells": [
  {
   "cell_type": "code",
   "execution_count": 1,
   "id": "595e84fc-67ce-4736-bd6a-eb18de893915",
   "metadata": {},
   "outputs": [
    {
     "name": "stdout",
     "output_type": "stream",
     "text": [
      "Codon-optimized sequence: ['ATG', 'TCA', 'ACA', 'CAT', 'GAT', 'ACA', 'TCA', 'TTA', 'AAA', 'ACA', 'ACA', 'GAA']\n"
     ]
    }
   ],
   "source": [
    "# Define the target protein sequence\n",
    "target_protein = \"MSTHDTSLKTTE\"  # Replace with your actual protein sequence\n",
    "\n",
    "# Define the codon usage table for the host organism (example)\n",
    "host_codon_table = {\n",
    "    \"M\": [\"ATG\"],\n",
    "    \"S\": [\"TCA\", \"TCT\", \"TCC\", \"TCG\", \"AGT\", \"AGC\"],\n",
    "    \"T\": [\"ACA\", \"ACT\", \"ACC\", \"ACG\"],\n",
    "    \"H\": [\"CAT\", \"CAC\"],\n",
    "    \"D\": [\"GAT\", \"GAC\"],\n",
    "    \"K\": [\"AAA\", \"AAG\"],\n",
    "    \"E\": [\"GAA\", \"GAG\"],\n",
    "    \"L\": [\"TTA\", \"TTG\", \"CTT\", \"CTC\", \"CTA\", \"CTG\"],\n",
    "}\n",
    "\n",
    "# Function to perform one-to-one codon replacement\n",
    "def one_to_one_codon_optimization(target_protein, host_codon_table):\n",
    "    optimized_sequence = []\n",
    "    \n",
    "    for aa in target_protein:\n",
    "        if aa in host_codon_table:\n",
    "            codon_choices = host_codon_table[aa]\n",
    "            optimized_sequence.append(codon_choices[0])  # Select the most frequently used codon\n",
    "    \n",
    "    return optimized_sequence\n",
    "\n",
    "# Perform one-to-one codon replacement\n",
    "optimized_sequence = one_to_one_codon_optimization(target_protein, host_codon_table)\n",
    "\n",
    "print(\"Codon-optimized sequence:\", optimized_sequence)\n"
   ]
  },
  {
   "cell_type": "code",
   "execution_count": null,
   "id": "a5e63306-7422-4e69-826c-a8b3ca1de5e2",
   "metadata": {},
   "outputs": [],
   "source": []
  }
 ],
 "metadata": {
  "kernelspec": {
   "display_name": "Python 3 (ipykernel)",
   "language": "python",
   "name": "python3"
  },
  "language_info": {
   "codemirror_mode": {
    "name": "ipython",
    "version": 3
   },
   "file_extension": ".py",
   "mimetype": "text/x-python",
   "name": "python",
   "nbconvert_exporter": "python",
   "pygments_lexer": "ipython3",
   "version": "3.11.4"
  }
 },
 "nbformat": 4,
 "nbformat_minor": 5
}
